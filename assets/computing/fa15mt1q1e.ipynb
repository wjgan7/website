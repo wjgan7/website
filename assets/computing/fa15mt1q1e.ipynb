{
 "cells": [
  {
   "cell_type": "code",
   "execution_count": 1,
   "metadata": {},
   "outputs": [],
   "source": [
    "import numpy as np"
   ]
  },
  {
   "cell_type": "code",
   "execution_count": 2,
   "metadata": {},
   "outputs": [],
   "source": [
    "# Supposed expectation is 0.51 * Y"
   ]
  },
  {
   "cell_type": "code",
   "execution_count": 3,
   "metadata": {},
   "outputs": [
    {
     "name": "stdout",
     "output_type": "stream",
     "text": [
      "Y=94 samples=15789\n",
      "expected: 47.940 actual  47.720384\n",
      "std: 0.030365 error:  7.232448 standard deviations\n",
      "\n",
      "Y=95 samples=26336\n",
      "expected: 48.450 actual  48.248118\n",
      "std: 0.023819 error:  8.475813 standard deviations\n",
      "\n",
      "Y=96 samples=44306\n",
      "expected: 48.960 actual  48.743048\n",
      "std: 0.018548 error:  11.696742 standard deviations\n",
      "\n",
      "Y=97 samples=73189\n",
      "expected: 49.470 actual  49.258578\n",
      "std: 0.014593 error:  14.488028 standard deviations\n",
      "\n",
      "Y=98 samples=120341\n",
      "expected: 49.980 actual  49.750897\n",
      "std: 0.011473 error:  19.968005 standard deviations\n",
      "\n",
      "Y=99 samples=197314\n",
      "expected: 50.490 actual  50.267192\n",
      "std: 0.009063 error:  24.584833 standard deviations\n",
      "\n"
     ]
    }
   ],
   "source": [
    "import numpy as np\n",
    "trials = [[] for _ in range(100)]\n",
    "for _ in range(500000):\n",
    "    rolls = np.random.randint(100, size=50)\n",
    "    max_roll = np.max(rolls)\n",
    "    trials[max_roll].append(np.mean(rolls))\n",
    "for y in range(100):\n",
    "    samples = len(trials[y])\n",
    "    if samples <= 10000:\n",
    "        continue\n",
    "    expected = 0.51*y\n",
    "    actual = np.mean(trials[y])\n",
    "    std = np.std(trials[y])/samples**0.5\n",
    "    print(f'Y={y} samples={samples}\\n' +\n",
    "          f'expected:{expected : .3f} actual {actual : .6f}\\n'+\n",
    "          f'std: {std :.6f} error: {abs(expected-actual)/std: 0.6f} standard deviations\\n')"
   ]
  },
  {
   "cell_type": "markdown",
   "metadata": {},
   "source": [
    "## Proper way to calculate E[Z | Y]\n",
    "\n",
    "1. Let $S_Y = \\{(x_1, x_2, \\dots, x_{50}) \\mid max(x_1, x_2, \\dots, x_{50}) = Y\\}$. $S_Y$ is the number of sequences using values $0,1, \\dots, Y$ where there's at least one $Y$.\n",
    "2. $\\lvert S_Y \\rvert = (Y+1)^{50}-Y^{50}$.\n",
    "3. $E[Z \\mid Y] = \\sum_{\\omega \\in S_Y} \\frac{Z(\\omega)}{\\lvert S_Y \\rvert}$, since each outcome in $S_Y$ is equally likely.\n",
    "4. $E[Z \\mid Y] = \\frac{1}{\\lvert S_Y \\rvert} \\sum_{\\omega \\in S_Y} \\frac{1}{50} \\sum_{i=1}^n X_i(\\omega)$.\n",
    "5. $E[Z \\mid Y] = \\frac{1}{50} \\sum_{i=1}^n \\frac{1}{\\lvert S_Y \\rvert} \\sum_{\\omega \\in S_Y} X_i(\\omega)$.\n",
    "6. The symmetry here is that $\\sum_{\\omega \\in S_Y} X_i(\\omega)$ is the same for all values of $i$.\n",
    "7. $E[Z \\mid Y] = \\frac{1}{\\lvert S_Y \\rvert} \\sum_{\\omega \\in S_Y} X_1(\\omega)$\n",
    "8. $E[Z \\mid Y] = \\frac{1}{\\lvert S_Y \\rvert} \\sum_{x=0}^Y x \\cdot \\text{(number of sequences $\\omega$ in $S_Y$ where $X(\\omega) = x$)}$\n",
    "9. When $x = Y$, the rest of the values in the sequence can be anything, so there are $(Y+1)^{49}$ possibilities. When $x \\not = Y$, there must be at least one $Y$ in the rest of the values, so $(Y+1)^{49} - Y^{49}$.\n",
    "10. $E[Z \\mid Y] = \\frac{1}{(Y+1)^{50} - Y^{50}} \\bigl[ (\\sum_{x=0}^{Y-1} x ((Y+1)^{49} - Y^{49})) + Y(Y+1)^{49} \\bigr]$\n",
    "11. $E[Z \\mid Y] = \\frac{\\frac{Y(Y-1)}{2} ((Y+1)^{49} - Y^{49}) + Y(Y+1)^{49}}{(Y+1)^{50} - Y^{50}}$"
   ]
  },
  {
   "cell_type": "markdown",
   "metadata": {},
   "source": [
    "## Wolfram Computation for $Y = 99$ says that it's 50.266\n",
    "\n",
    "http://www.wolframalpha.com/input/?i=((98*99%2F2)*(100%5E49-99%5E49)%2B99*100%5E49)%2F(100%5E50-99%5E50))"
   ]
  },
  {
   "cell_type": "markdown",
   "metadata": {},
   "source": [
    "## Issue with solution\n",
    "\n",
    "The main issue is with $\\sum_{i \\not = j} E[X_i \\mid Y]$. This not a valid expression as $j$ is a random variable that depends on the particular sequence we're looking at. So it only makes sense to say $E[ \\sum_{i \\not = j} X_i \\mid Y]$."
   ]
  }
 ],
 "metadata": {
  "kernelspec": {
   "display_name": "Python 3",
   "language": "python",
   "name": "python3"
  },
  "language_info": {
   "codemirror_mode": {
    "name": "ipython",
    "version": 3
   },
   "file_extension": ".py",
   "mimetype": "text/x-python",
   "name": "python",
   "nbconvert_exporter": "python",
   "pygments_lexer": "ipython3",
   "version": "3.7.1"
  }
 },
 "nbformat": 4,
 "nbformat_minor": 2
}
